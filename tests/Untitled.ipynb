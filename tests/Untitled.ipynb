{
 "cells": [
  {
   "cell_type": "code",
   "execution_count": 1,
   "id": "0f0f429f-be50-4a67-be39-6891180e5fe0",
   "metadata": {},
   "outputs": [],
   "source": [
    "import cv2\n",
    "image_paths=['1.jpg','2.jpg','3.jpg']\n",
    "# initialized a list of images\n",
    "imgs = []"
   ]
  },
  {
   "cell_type": "code",
   "execution_count": null,
   "id": "747db192-8d56-4939-afd8-2afe42acece9",
   "metadata": {},
   "outputs": [],
   "source": [
    "for i in range(len(image_paths)):\n",
    "\timgs.append(cv2.imread(image_paths[i]))\n",
    "\timgs[i]=cv2.resize(imgs[i],(0,0),fx=0.4,fy=0.4)\n",
    "\t# this is optional if your input images isn't too large\n",
    "\t# you don't need to scale down the image\n",
    "\t# in my case the input images are of dimensions 3000x1200\n",
    "\t# and due to this the resultant image won't fit the screen\n",
    "\t# scaling down the images\n",
    "# showing the original pictures\n",
    "cv2.imshow('1',imgs[0])\n",
    "cv2.imshow('2',imgs[1])\n",
    "cv2.imshow('3',imgs[2])"
   ]
  },
  {
   "cell_type": "code",
   "execution_count": 2,
   "id": "438a3a3e-40d4-49e6-acc9-7aecd9e50b48",
   "metadata": {},
   "outputs": [],
   "source": [
    "stitchy=cv2.Stitcher.create()"
   ]
  },
  {
   "cell_type": "code",
   "execution_count": null,
   "id": "595309a3-b664-40a5-916c-a2e4d3784de7",
   "metadata": {},
   "outputs": [],
   "source": [
    "(dummy,output)=stitchy.stitch(imgs)\n",
    "\n",
    "if dummy != cv2.STITCHER_OK:\n",
    "# checking if the stitching procedure is successful\n",
    "# .stitch() function returns a true value if stitching is\n",
    "# done successfully\n",
    "\tprint(\"stitching ain't successful\")\n",
    "else:\n",
    "\tprint('Your Panorama is ready!!!')\n",
    "\n",
    "# final output\n",
    "cv2.imshow('final result',output)\n",
    "\n",
    "cv2.waitKey(0)"
   ]
  },
  {
   "cell_type": "code",
   "execution_count": 3,
   "id": "776f7399-6be9-4bac-a07b-91f8a1bc4191",
   "metadata": {},
   "outputs": [
    {
     "data": {
      "text/plain": [
       "<Stitcher 0x7f201713bdd0>"
      ]
     },
     "execution_count": 3,
     "metadata": {},
     "output_type": "execute_result"
    }
   ],
   "source": [
    "stitchy"
   ]
  },
  {
   "cell_type": "code",
   "execution_count": 4,
   "id": "c3bf34a4-326a-4332-a1fc-c56a837d3cf8",
   "metadata": {},
   "outputs": [
    {
     "name": "stdout",
     "output_type": "stream",
     "text": [
      "<Stitcher 0x7f201713bdd0>\n"
     ]
    }
   ],
   "source": [
    "print(stitchy)"
   ]
  },
  {
   "cell_type": "code",
   "execution_count": 5,
   "id": "1c4d1aa8-6d32-4d88-92f7-5c1b496aa641",
   "metadata": {},
   "outputs": [
    {
     "name": "stdout",
     "output_type": "stream",
     "text": [
      "Help on Stitcher in module cv2 object:\n",
      "\n",
      "class Stitcher(builtins.object)\n",
      " |  Methods defined here:\n",
      " |  \n",
      " |  __repr__(self, /)\n",
      " |      Return repr(self).\n",
      " |  \n",
      " |  composePanorama(...)\n",
      " |      composePanorama([, pano]) -> retval, pano\n",
      " |      .   @overload\n",
      " |      \n",
      " |      \n",
      " |      \n",
      " |      composePanorama(images[, pano]) -> retval, pano\n",
      " |      .   @brief These functions try to compose the given images (or images stored internally from the other function\n",
      " |      .       calls) into the final pano under the assumption that the image transformations were estimated\n",
      " |      .       before.\n",
      " |      .   \n",
      " |      .       @note Use the functions only if you're aware of the stitching pipeline, otherwise use\n",
      " |      .       Stitcher::stitch.\n",
      " |      .   \n",
      " |      .       @param images Input images.\n",
      " |      .       @param pano Final pano.\n",
      " |      .       @return Status code.\n",
      " |  \n",
      " |  compositingResol(...)\n",
      " |      compositingResol() -> retval\n",
      " |      .\n",
      " |  \n",
      " |  estimateTransform(...)\n",
      " |      estimateTransform(images[, masks]) -> retval\n",
      " |      .   @brief These functions try to match the given images and to estimate rotations of each camera.\n",
      " |      .   \n",
      " |      .       @note Use the functions only if you're aware of the stitching pipeline, otherwise use\n",
      " |      .       Stitcher::stitch.\n",
      " |      .   \n",
      " |      .       @param images Input images.\n",
      " |      .       @param masks Masks for each input image specifying where to look for keypoints (optional).\n",
      " |      .       @return Status code.\n",
      " |  \n",
      " |  interpolationFlags(...)\n",
      " |      interpolationFlags() -> retval\n",
      " |      .\n",
      " |  \n",
      " |  panoConfidenceThresh(...)\n",
      " |      panoConfidenceThresh() -> retval\n",
      " |      .\n",
      " |  \n",
      " |  registrationResol(...)\n",
      " |      registrationResol() -> retval\n",
      " |      .\n",
      " |  \n",
      " |  seamEstimationResol(...)\n",
      " |      seamEstimationResol() -> retval\n",
      " |      .\n",
      " |  \n",
      " |  setCompositingResol(...)\n",
      " |      setCompositingResol(resol_mpx) -> None\n",
      " |      .\n",
      " |  \n",
      " |  setInterpolationFlags(...)\n",
      " |      setInterpolationFlags(interp_flags) -> None\n",
      " |      .\n",
      " |  \n",
      " |  setPanoConfidenceThresh(...)\n",
      " |      setPanoConfidenceThresh(conf_thresh) -> None\n",
      " |      .\n",
      " |  \n",
      " |  setRegistrationResol(...)\n",
      " |      setRegistrationResol(resol_mpx) -> None\n",
      " |      .\n",
      " |  \n",
      " |  setSeamEstimationResol(...)\n",
      " |      setSeamEstimationResol(resol_mpx) -> None\n",
      " |      .\n",
      " |  \n",
      " |  setWaveCorrection(...)\n",
      " |      setWaveCorrection(flag) -> None\n",
      " |      .\n",
      " |  \n",
      " |  stitch(...)\n",
      " |      stitch(images[, pano]) -> retval, pano\n",
      " |      .   @overload\n",
      " |      \n",
      " |      \n",
      " |      \n",
      " |      stitch(images, masks[, pano]) -> retval, pano\n",
      " |      .   @brief These functions try to stitch the given images.\n",
      " |      .   \n",
      " |      .       @param images Input images.\n",
      " |      .       @param masks Masks for each input image specifying where to look for keypoints (optional).\n",
      " |      .       @param pano Final pano.\n",
      " |      .       @return Status code.\n",
      " |  \n",
      " |  waveCorrection(...)\n",
      " |      waveCorrection() -> retval\n",
      " |      .\n",
      " |  \n",
      " |  workScale(...)\n",
      " |      workScale() -> retval\n",
      " |      .\n",
      " |  \n",
      " |  ----------------------------------------------------------------------\n",
      " |  Static methods defined here:\n",
      " |  \n",
      " |  __new__(*args, **kwargs) from builtins.type\n",
      " |      Create and return a new object.  See help(type) for accurate signature.\n",
      " |  \n",
      " |  create(...)\n",
      " |      create([, mode]) -> retval\n",
      " |      .   @brief Creates a Stitcher configured in one of the stitching modes.\n",
      " |      .   \n",
      " |      .       @param mode Scenario for stitcher operation. This is usually determined by source of images\n",
      " |      .       to stitch and their transformation. Default parameters will be chosen for operation in given\n",
      " |      .       scenario.\n",
      " |      .       @return Stitcher class instance.\n",
      "\n"
     ]
    }
   ],
   "source": [
    "help(stitchy)"
   ]
  },
  {
   "cell_type": "code",
   "execution_count": null,
   "id": "c85cf385-3640-4fdc-b41a-00156dfdb2b2",
   "metadata": {},
   "outputs": [],
   "source": []
  }
 ],
 "metadata": {
  "kernelspec": {
   "display_name": "Python 3 (ipykernel)",
   "language": "python",
   "name": "python3"
  },
  "language_info": {
   "codemirror_mode": {
    "name": "ipython",
    "version": 3
   },
   "file_extension": ".py",
   "mimetype": "text/x-python",
   "name": "python",
   "nbconvert_exporter": "python",
   "pygments_lexer": "ipython3",
   "version": "3.9.10"
  }
 },
 "nbformat": 4,
 "nbformat_minor": 5
}
