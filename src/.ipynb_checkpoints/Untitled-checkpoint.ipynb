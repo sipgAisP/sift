{
 "cells": [
  {
   "cell_type": "code",
   "execution_count": 127,
   "id": "f181597d-3526-48a2-b2ea-f79a0de51093",
   "metadata": {},
   "outputs": [],
   "source": [
    "import concurrent.futures as futures\n",
    "import grpc\n",
    "import grpc_reflection.v1alpha.reflection as grpc_reflection\n",
    "import logging\n",
    "import image_generic_pb2\n",
    "import image_generic_pb2_grpc\n",
    "import utils\n",
    "\n",
    "import cv2"
   ]
  },
  {
   "cell_type": "code",
   "execution_count": 128,
   "id": "3edacc65-dc07-4743-9a50-7142f54e8690",
   "metadata": {},
   "outputs": [],
   "source": [
    "img = cv2.imread('/home/jovyan/pipelines/opencvsimple/imagedelay-grpc-service/images/golf.jpg')\n",
    "gray= cv2.cvtColor(img,cv2.COLOR_BGR2GRAY)\n",
    "sift = cv2.SIFT_create()\n",
    "kp,desc = sift.detectAndCompute(gray,None)"
   ]
  },
  {
   "cell_type": "code",
   "execution_count": 134,
   "id": "cd6bda5e-2c0a-4484-aa8f-74e5ecc910a7",
   "metadata": {},
   "outputs": [],
   "source": [
    "import utils\n",
    "calling_fn = utils.get_calling_function()"
   ]
  },
  {
   "cell_type": "code",
   "execution_count": 86,
   "id": "31218fc5-5c07-49d4-ac52-da2b07e0c07a",
   "metadata": {},
   "outputs": [],
   "source": [
    "db=desc.tobytes()\n",
    "dback=np.frombuffer(db,dtype='float32').reshape(2567,128)"
   ]
  },
  {
   "cell_type": "code",
   "execution_count": 135,
   "id": "b3a059e9-0ebc-4b8f-bb36-dbc0b577842b",
   "metadata": {},
   "outputs": [
    {
     "data": {
      "text/plain": [
       "<function external.calling_function(image)>"
      ]
     },
     "execution_count": 135,
     "metadata": {},
     "output_type": "execute_result"
    }
   ],
   "source": [
    "calling_fn"
   ]
  },
  {
   "cell_type": "code",
   "execution_count": 112,
   "id": "1fbdab62-da33-4012-a4fe-c80d391acfa6",
   "metadata": {},
   "outputs": [
    {
     "data": {
      "text/plain": [
       "(1348, 1313, 3)"
      ]
     },
     "execution_count": 112,
     "metadata": {},
     "output_type": "execute_result"
    }
   ],
   "source": [
    "test.shape"
   ]
  },
  {
   "cell_type": "code",
   "execution_count": null,
   "id": "e23f1ece-d453-4d92-b256-bff90948b595",
   "metadata": {},
   "outputs": [],
   "source": [
    "for f in features:\n",
    "    ff=img_features.features.add()\n",
    "    ff.x=f.pt[1]\n",
    "    ff.y=f.pt[2]\n",
    "   "
   ]
  },
  {
   "cell_type": "code",
   "execution_count": null,
   "id": "2a92000c-607b-418a-ba20-cb4542523a8f",
   "metadata": {},
   "outputs": [],
   "source": [
    "img_features.features"
   ]
  },
  {
   "cell_type": "code",
   "execution_count": null,
   "id": "7ee63cf8-08df-430b-b909-430b9db11984",
   "metadata": {},
   "outputs": [],
   "source": [
    "merda.img.data='3'.encode()"
   ]
  },
  {
   "cell_type": "code",
   "execution_count": null,
   "id": "611039f4-a131-420b-8168-8a91b5576ae2",
   "metadata": {},
   "outputs": [],
   "source": [
    "merda.img(data=3)"
   ]
  },
  {
   "cell_type": "code",
   "execution_count": 136,
   "id": "7764e66a-0bb4-4c79-ba41-6ce2bb45bd1e",
   "metadata": {},
   "outputs": [],
   "source": [
    "x=len(desc.tolist())"
   ]
  },
  {
   "cell_type": "code",
   "execution_count": 140,
   "id": "0cfc69dd-7eb9-4c22-b619-39fadf2fbb74",
   "metadata": {},
   "outputs": [
    {
     "data": {
      "text/plain": [
       "2567"
      ]
     },
     "execution_count": 140,
     "metadata": {},
     "output_type": "execute_result"
    }
   ],
   "source": [
    "int(x)"
   ]
  },
  {
   "cell_type": "code",
   "execution_count": 139,
   "id": "27c25748-aec6-4671-a009-b478bbd7b0ab",
   "metadata": {},
   "outputs": [
    {
     "ename": "NameError",
     "evalue": "name 'int32' is not defined",
     "output_type": "error",
     "traceback": [
      "\u001b[0;31m---------------------------------------------------------------------------\u001b[0m",
      "\u001b[0;31mNameError\u001b[0m                                 Traceback (most recent call last)",
      "Input \u001b[0;32mIn [139]\u001b[0m, in \u001b[0;36m<cell line: 1>\u001b[0;34m()\u001b[0m\n\u001b[0;32m----> 1\u001b[0m \u001b[43mint32\u001b[49m(x)\n",
      "\u001b[0;31mNameError\u001b[0m: name 'int32' is not defined"
     ]
    }
   ],
   "source": [
    "int32(x)"
   ]
  },
  {
   "cell_type": "code",
   "execution_count": null,
   "id": "4b90c2b8-3954-4490-b25b-57f44d9d9999",
   "metadata": {},
   "outputs": [],
   "source": []
  }
 ],
 "metadata": {
  "kernelspec": {
   "display_name": "Python 3 (ipykernel)",
   "language": "python",
   "name": "python3"
  },
  "language_info": {
   "codemirror_mode": {
    "name": "ipython",
    "version": 3
   },
   "file_extension": ".py",
   "mimetype": "text/x-python",
   "name": "python",
   "nbconvert_exporter": "python",
   "pygments_lexer": "ipython3",
   "version": "3.9.10"
  }
 },
 "nbformat": 4,
 "nbformat_minor": 5
}
