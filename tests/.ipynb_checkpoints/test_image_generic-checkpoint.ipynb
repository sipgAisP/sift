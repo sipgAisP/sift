{
 "cells": [
  {
   "cell_type": "code",
   "execution_count": 3,
   "id": "03414be6-450d-4ec1-9bd2-6aab13d4156f",
   "metadata": {},
   "outputs": [
    {
     "ename": "SyntaxError",
     "evalue": "invalid syntax (2177670491.py, line 7)",
     "output_type": "error",
     "traceback": [
      "\u001b[0;36m  Input \u001b[0;32mIn [3]\u001b[0;36m\u001b[0m\n\u001b[0;31m    import ../protos/image_generic_pb2\u001b[0m\n\u001b[0m           ^\u001b[0m\n\u001b[0;31mSyntaxError\u001b[0m\u001b[0;31m:\u001b[0m invalid syntax\n"
     ]
    }
   ],
   "source": [
    "# Test for the estimation of a single image key-points\n",
    "\n",
    "import argparse\n",
    "import grpc\n",
    "import io\n",
    "import matplotlib.pyplot as plt\n",
    "import importlib.util\n",
    "image_generic_pb2 = SourceFileLoader(\"image_generic_pb2\",\"../protos\").load_module()\n",
    "image_generic_pb2_grpc = SourceFileLoader(\"image_generic_pb2_grpc\",\"../protos\").load_module()\n",
    "#import ../protos/image_generic_pb2\n",
    "#import ../protos/image_generic_pb2_grpc\n",
    "import PIL.Image as PIL_image"
   ]
  },
  {
   "cell_type": "code",
   "execution_count": 2,
   "id": "a6b1cb06-49df-42d5-8f12-1a4bb3c90295",
   "metadata": {},
   "outputs": [],
   "source": [
    "def process_image(stub, image_path):\n",
    "    print(f'Processing image: \\'{image_path}\\'')\n",
    "    with open(image_path, 'rb') as fp:\n",
    "        image_bytes = fp.read()\n",
    "    request = image_generic_pb2.Image(data=image_bytes)\n",
    "    return stub.process(request)\n",
    "\n",
    "\n",
    "def display_image(image):\n",
    "    img = PIL_image.open(io.BytesIO(image.data))\n",
    "    ax = plt.gca()\n",
    "    ax.imshow(img)\n",
    "    plt.show()\n",
    "\n",
    "\n",
    "def parse_args():\n",
    "    \"\"\"\n",
    "    Parse arguments for test setup\n",
    "\n",
    "    Returns:\n",
    "        The arguments for the test\n",
    "    \"\"\"\n",
    "    parser = argparse.ArgumentParser(description='Test for OpenPose gRPC Service')\n",
    "    parser.add_argument(\n",
    "        'image',\n",
    "        help='Path to the image to send to the server')\n",
    "    parser.add_argument(\n",
    "        '--target',\n",
    "        metavar='target',\n",
    "        default='10.0.14.4:8061',\n",
    "        help='Location of the tested server (defaults to localhost:8061)')\n",
    "    return parser.parse_args()"
   ]
  },
  {
   "cell_type": "code",
   "execution_count": null,
   "id": "7988967f-3d2b-48ba-b35b-0925493b8438",
   "metadata": {},
   "outputs": [],
   "source": []
  },
  {
   "cell_type": "code",
   "execution_count": null,
   "id": "47f4cf28-7574-4737-957b-64eca32dfb1d",
   "metadata": {},
   "outputs": [],
   "source": [
    "if __name__ == '__main__':\n",
    "    args = parse_args()\n",
    "    target = args.target\n",
    "    image_path = args.image\n",
    "    with grpc.insecure_channel(target) as channel:\n",
    "        estimator_stub = image_generic_pb2_grpc.ImageGenericServiceStub(channel)\n",
    "        try:\n",
    "            response = process_image(estimator_stub, image_path)\n",
    "            display_image(response)\n",
    "        except grpc.RpcError as rpc_error:\n",
    "            print('An error has occurred:')\n",
    "            print(f'  Error Code: {rpc_error.code()}')\n",
    "            print(f'  Details: {rpc_error.details()}')"
   ]
  }
 ],
 "metadata": {
  "kernelspec": {
   "display_name": "Python 3 (ipykernel)",
   "language": "python",
   "name": "python3"
  },
  "language_info": {
   "codemirror_mode": {
    "name": "ipython",
    "version": 3
   },
   "file_extension": ".py",
   "mimetype": "text/x-python",
   "name": "python",
   "nbconvert_exporter": "python",
   "pygments_lexer": "ipython3",
   "version": "3.9.10"
  }
 },
 "nbformat": 4,
 "nbformat_minor": 5
}
